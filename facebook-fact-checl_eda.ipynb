{
 "cells": [
  {
   "cell_type": "code",
   "execution_count": 40,
   "metadata": {},
   "outputs": [],
   "source": [
    "import pandas as pd\n",
    "import matplotlib.pyplot as plt\n",
    "import seaborn as sns\n",
    "%matplotlib inline\n"
   ]
  },
  {
   "cell_type": "code",
   "execution_count": 33,
   "metadata": {},
   "outputs": [],
   "source": [
    "df = pd.read_csv(\"data/facebook-fact-check.csv\")"
   ]
  },
  {
   "cell_type": "code",
   "execution_count": 34,
   "metadata": {},
   "outputs": [
    {
     "data": {
      "text/html": [
       "<div>\n",
       "<style scoped>\n",
       "    .dataframe tbody tr th:only-of-type {\n",
       "        vertical-align: middle;\n",
       "    }\n",
       "\n",
       "    .dataframe tbody tr th {\n",
       "        vertical-align: top;\n",
       "    }\n",
       "\n",
       "    .dataframe thead th {\n",
       "        text-align: right;\n",
       "    }\n",
       "</style>\n",
       "<table border=\"1\" class=\"dataframe\">\n",
       "  <thead>\n",
       "    <tr style=\"text-align: right;\">\n",
       "      <th></th>\n",
       "      <th>account_id</th>\n",
       "      <th>post_id</th>\n",
       "      <th>Category</th>\n",
       "      <th>Page</th>\n",
       "      <th>Post URL</th>\n",
       "      <th>Date Published</th>\n",
       "      <th>Post Type</th>\n",
       "      <th>Rating</th>\n",
       "      <th>Debate</th>\n",
       "      <th>share_count</th>\n",
       "      <th>reaction_count</th>\n",
       "      <th>comment_count</th>\n",
       "    </tr>\n",
       "  </thead>\n",
       "  <tbody>\n",
       "    <tr>\n",
       "      <th>0</th>\n",
       "      <td>184096565021911</td>\n",
       "      <td>1035057923259100</td>\n",
       "      <td>mainstream</td>\n",
       "      <td>ABC News Politics</td>\n",
       "      <td>https://www.facebook.com/ABCNewsPolitics/posts...</td>\n",
       "      <td>2016-09-19</td>\n",
       "      <td>video</td>\n",
       "      <td>no factual content</td>\n",
       "      <td>NaN</td>\n",
       "      <td>NaN</td>\n",
       "      <td>146.0</td>\n",
       "      <td>15.0</td>\n",
       "    </tr>\n",
       "    <tr>\n",
       "      <th>1</th>\n",
       "      <td>184096565021911</td>\n",
       "      <td>1035269309904628</td>\n",
       "      <td>mainstream</td>\n",
       "      <td>ABC News Politics</td>\n",
       "      <td>https://www.facebook.com/ABCNewsPolitics/posts...</td>\n",
       "      <td>2016-09-19</td>\n",
       "      <td>link</td>\n",
       "      <td>mostly true</td>\n",
       "      <td>NaN</td>\n",
       "      <td>1.0</td>\n",
       "      <td>33.0</td>\n",
       "      <td>34.0</td>\n",
       "    </tr>\n",
       "    <tr>\n",
       "      <th>2</th>\n",
       "      <td>184096565021911</td>\n",
       "      <td>1035305953234297</td>\n",
       "      <td>mainstream</td>\n",
       "      <td>ABC News Politics</td>\n",
       "      <td>https://www.facebook.com/ABCNewsPolitics/posts...</td>\n",
       "      <td>2016-09-19</td>\n",
       "      <td>link</td>\n",
       "      <td>mostly true</td>\n",
       "      <td>NaN</td>\n",
       "      <td>34.0</td>\n",
       "      <td>63.0</td>\n",
       "      <td>27.0</td>\n",
       "    </tr>\n",
       "    <tr>\n",
       "      <th>3</th>\n",
       "      <td>184096565021911</td>\n",
       "      <td>1035322636565962</td>\n",
       "      <td>mainstream</td>\n",
       "      <td>ABC News Politics</td>\n",
       "      <td>https://www.facebook.com/ABCNewsPolitics/posts...</td>\n",
       "      <td>2016-09-19</td>\n",
       "      <td>link</td>\n",
       "      <td>mostly true</td>\n",
       "      <td>NaN</td>\n",
       "      <td>35.0</td>\n",
       "      <td>170.0</td>\n",
       "      <td>86.0</td>\n",
       "    </tr>\n",
       "    <tr>\n",
       "      <th>4</th>\n",
       "      <td>184096565021911</td>\n",
       "      <td>1035352946562931</td>\n",
       "      <td>mainstream</td>\n",
       "      <td>ABC News Politics</td>\n",
       "      <td>https://www.facebook.com/ABCNewsPolitics/posts...</td>\n",
       "      <td>2016-09-19</td>\n",
       "      <td>video</td>\n",
       "      <td>mostly true</td>\n",
       "      <td>NaN</td>\n",
       "      <td>568.0</td>\n",
       "      <td>3188.0</td>\n",
       "      <td>2815.0</td>\n",
       "    </tr>\n",
       "  </tbody>\n",
       "</table>\n",
       "</div>"
      ],
      "text/plain": [
       "        account_id           post_id    Category               Page  \\\n",
       "0  184096565021911  1035057923259100  mainstream  ABC News Politics   \n",
       "1  184096565021911  1035269309904628  mainstream  ABC News Politics   \n",
       "2  184096565021911  1035305953234297  mainstream  ABC News Politics   \n",
       "3  184096565021911  1035322636565962  mainstream  ABC News Politics   \n",
       "4  184096565021911  1035352946562931  mainstream  ABC News Politics   \n",
       "\n",
       "                                            Post URL Date Published Post Type  \\\n",
       "0  https://www.facebook.com/ABCNewsPolitics/posts...     2016-09-19     video   \n",
       "1  https://www.facebook.com/ABCNewsPolitics/posts...     2016-09-19      link   \n",
       "2  https://www.facebook.com/ABCNewsPolitics/posts...     2016-09-19      link   \n",
       "3  https://www.facebook.com/ABCNewsPolitics/posts...     2016-09-19      link   \n",
       "4  https://www.facebook.com/ABCNewsPolitics/posts...     2016-09-19     video   \n",
       "\n",
       "               Rating Debate  share_count  reaction_count  comment_count  \n",
       "0  no factual content    NaN          NaN           146.0           15.0  \n",
       "1         mostly true    NaN          1.0            33.0           34.0  \n",
       "2         mostly true    NaN         34.0            63.0           27.0  \n",
       "3         mostly true    NaN         35.0           170.0           86.0  \n",
       "4         mostly true    NaN        568.0          3188.0         2815.0  "
      ]
     },
     "execution_count": 34,
     "metadata": {},
     "output_type": "execute_result"
    }
   ],
   "source": [
    "df.head()"
   ]
  },
  {
   "cell_type": "code",
   "execution_count": 35,
   "metadata": {},
   "outputs": [],
   "source": [
    "df.columns = [col.lower() for col in df.columns]"
   ]
  },
  {
   "cell_type": "code",
   "execution_count": 36,
   "metadata": {},
   "outputs": [],
   "source": [
    "plt.style.use(['fivethirtyeight']) #making my graphs look purd..ier\n",
    "plt.style.use(['seaborn-poster'])"
   ]
  },
  {
   "cell_type": "code",
   "execution_count": 37,
   "metadata": {},
   "outputs": [
    {
     "data": {
      "text/plain": [
       "mostly true                  1669\n",
       "no factual content            264\n",
       "mixture of true and false     245\n",
       "mostly false                  104\n",
       "Name: rating, dtype: int64"
      ]
     },
     "execution_count": 37,
     "metadata": {},
     "output_type": "execute_result"
    }
   ],
   "source": [
    "df.rating.value_counts()"
   ]
  },
  {
   "cell_type": "markdown",
   "metadata": {},
   "source": [
    "Posts that contain no factual content have the highes average share count. They are also the most volatile as they have the biggest variance in outcomes."
   ]
  },
  {
   "cell_type": "code",
   "execution_count": 42,
   "metadata": {},
   "outputs": [
    {
     "data": {
      "text/plain": [
       "<matplotlib.axes._subplots.AxesSubplot at 0x1283ca6d8>"
      ]
     },
     "execution_count": 42,
     "metadata": {},
     "output_type": "execute_result"
    },
    {
     "data": {
      "image/png": "[encoded data removed]",
      "text/plain": [
       "<Figure size 432x288 with 1 Axes>"
      ]
     },
     "metadata": {
      "needs_background": "light"
     },
     "output_type": "display_data"
    }
   ],
   "source": [
    "sns.barplot(\"share_count\", \"rating\", data =df)"
   ]
  },
  {
   "cell_type": "code",
   "execution_count": 50,
   "metadata": {},
   "outputs": [
    {
     "name": "stderr",
     "output_type": "stream",
     "text": [
      "/Users/aidancoco/anaconda3/envs/learn-env/lib/python3.6/site-packages/ipykernel_launcher.py:2: UserWarning: Pandas doesn't allow columns to be created via a new attribute name - see https://pandas.pydata.org/pandas-docs/stable/indexing.html#attribute-access\n",
      "  \n"
     ]
    }
   ],
   "source": [
    "\n",
    "df.date = pd.to_datetime(df[\"date published\"], format='%Y-%M-%d')"
   ]
  },
  {
   "cell_type": "code",
   "execution_count": 53,
   "metadata": {},
   "outputs": [
    {
     "data": {
      "text/plain": [
       "Timedelta('-8 days +00:00:00')"
      ]
     },
     "execution_count": 53,
     "metadata": {},
     "output_type": "execute_result"
    }
   ],
   "source": [
    "df.date.min() - df.date.max()"
   ]
  },
  {
   "cell_type": "code",
   "execution_count": null,
   "metadata": {},
   "outputs": [],
   "source": []
  }
 ],
 "metadata": {
  "kernelspec": {
   "display_name": "Python 3",
   "language": "python",
   "name": "python3"
  },
  "language_info": {
   "codemirror_mode": {
    "name": "ipython",
    "version": 3
   },
   "file_extension": ".py",
   "mimetype": "text/x-python",
   "name": "python",
   "nbconvert_exporter": "python",
   "pygments_lexer": "ipython3",
   "version": "3.6.9"
  },
  "toc": {
   "base_numbering": 1,
   "nav_menu": {},
   "number_sections": true,
   "sideBar": true,
   "skip_h1_title": false,
   "title_cell": "Table of Contents",
   "title_sidebar": "Contents",
   "toc_cell": false,
   "toc_position": {},
   "toc_section_display": true,
   "toc_window_display": false
  }
 },
 "nbformat": 4,
 "nbformat_minor": 4
}
